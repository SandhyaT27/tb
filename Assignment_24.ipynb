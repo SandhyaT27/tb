{
 "cells": [
  {
   "cell_type": "markdown",
   "metadata": {},
   "source": [
    "# 1. What is your definition of clustering? What are a few clustering algorithms you might think of?\n",
    "Clustering is defined as the process of grouping the data points into groups such that the data points in the same group are similar to the data points in the same group and dissimilar to the data points in other groups.\n",
    "Few clustering algorithms are:\n",
    "1)K Means\n",
    "2)Hierarchical\n",
    "3)DBSCAN\n",
    "# 2. What are some of the most popular clustering algorithm applications?\n",
    "1)Customer Segmentation\n",
    "2)Image processing\n",
    "3)Biological data and medical imaging\n",
    "# 3. When using K-Means, describe two strategies for selecting the appropriate number of clusters.\n",
    "1)Using the Elbow plot\n",
    "The optimal number of clusters can be defined as follow:\n",
    "Compute clustering algorithm (e.g., k-means clustering) for different values of k. ...\n",
    "For each k, calculate the total within-cluster sum of square (wss).\n",
    "Plot the curve of wss according to the number of clusters k.\n",
    "# 4. What is mark propagation and how does it work? Why would you do it, and how would you do it?\n",
    "Backpropagation (backward propagation) is an important mathematical tool for improving the accuracy of predictions in data mining and machine learning. Essentially, backpropagation is an algorithm used to calculate derivatives quickly.\n",
    "\n",
    "The backpropagation algorithm works by computing the gradient of the loss function with respect to each weight by the chain rule, computing the gradient one layer at a time, iterating backward from the last layer to avoid redundant calculations of intermediate terms in the chain rule.\n",
    "# 5. Provide two examples of clustering algorithms that can handle large datasets. And two that look for high-density areas?\n",
    "The most commonly used algorithm in clustering are partitioning, hierarchical, grid based, density based, and model based algorithms. A review of clustering and its different techniques in data mining is done considering the criteria's for big data.\n",
    "# 6. Can you think of a scenario in which constructive learning will be advantageous? How can you go about putting it into action?\n",
    "In Constructivist learning, the traditional classroom learning procedure is flipped. Instead of a teacher informing a child about a subject and constructing a meaning for them, in constructivist learning, children construct their own meanings. Now, this may not be the best approach for every learning environment, but it can be tremendously helpful at home.\n",
    "\n",
    "The home environment is where children primarily develop a sense of self and is the perfect setting for children to practice taking initiative in their learning via a Constructivist approach.\n",
    "# 7. How do you tell the difference between anomaly and novelty detection?\n",
    " In \"novelty detection\", you have a data set that contains only good data, and you're trying to determine whether new observations fit within the existing data set. In \"outlier detection\", the data may contain outliers, which you want to identify.\n",
    "# 8. What is a Gaussian mixture, and how does it work? What are some of the things you can do about it?\n",
    "A Gaussian Mixture is a function that is comprised of several Gaussians, each identified by k ∈ {1,…, K}, where K is the number of clusters of our dataset. Each Gaussian k in the mixture is comprised of the following parameters: A mean μ that defines its centre. A covariance Σ that defines its width.\n",
    "# 9. When using a Gaussian mixture model, can you name two techniques for determining the correct number of clusters?\n",
    "An approach is to find the clusters using soft clustering methods and then see if they are gaussian. If they are then you can apply a GMM model which represents the whole dataset.\n"
   ]
  },
  {
   "cell_type": "code",
   "execution_count": null,
   "metadata": {},
   "outputs": [],
   "source": []
  }
 ],
 "metadata": {
  "kernelspec": {
   "display_name": "Python 3",
   "language": "python",
   "name": "python3"
  },
  "language_info": {
   "codemirror_mode": {
    "name": "ipython",
    "version": 3
   },
   "file_extension": ".py",
   "mimetype": "text/x-python",
   "name": "python",
   "nbconvert_exporter": "python",
   "pygments_lexer": "ipython3",
   "version": "3.8.3"
  }
 },
 "nbformat": 4,
 "nbformat_minor": 4
}
