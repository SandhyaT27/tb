{
 "cells": [
  {
   "cell_type": "markdown",
   "metadata": {},
   "source": [
    "# 1. What are the key reasons for reducing the dimensionality of a dataset? What are the major disadvantages?\n",
    "Disadvantages of Dimensionality Reduction\n",
    "PCA tends to find linear correlations between variables, which is sometimes undesirable. PCA fails in cases where mean and covariance are not enough to define datasets. We may not know how many principal components to keep- in practice, some thumb rules are applied.\n",
    "Advantages of Dimensionality Reduction\n",
    "It helps in data compression, and hence reduced storage space.\n",
    "It reduces computation time.\n",
    "It also helps remove redundant features, if any.\n",
    "\n",
    "# 2. What is the dimensionality curse?\n",
    "The curse of dimensionality, first introduced by Bellman [1], indicates that the number of samples needed to estimate an arbitrary function with a given level of accuracy grows exponentially with respect to the number of input variables (i.e., dimensionality) of the function.\n",
    "\n",
    "\n",
    "# 3. Tell if its possible to reverse the process of reducing the dimensionality of a dataset? If so, how can you go about doing it? If not, what is the reason?\n",
    "No, dimensionality reduction is not reversible in general.\n",
    "\n",
    "# 4. Can PCA be utilized to reduce the dimensionality of a nonlinear dataset with a lot of variables?\n",
    "PCA can be used to significantly reduce the dimensionality of most datasets, even if they are highly nonlinear because it can at least get rid of useless dimensions. However, if there are no useless dimensions, reducing dimensionality with PCA will lose too much information.\n",
    "\n",
    "\n",
    "# 5. Assume you're running PCA on a 1,000-dimensional dataset with a 95 percent explained variance ratio. What is the number of dimensions that the resulting dataset would have?\n",
    "Some criteria say that the total variance explained by all components should be between 70% to 80% variance, which in this case would mean about four to five components.\n",
    "\n",
    "\n",
    "# 6. Will you use vanilla PCA, incremental PCA, randomized PCA, or kernel PCA in which situations?\n",
    "It depends on the type of given dataset.\n",
    "\n",
    "# 7. How do you assess a dimensionality reduction algorithm's success on your dataset?\n",
    " dimensionality reduction algorithm is said to work well if it eliminates a significant number of dimensions from the dataset without losing too much information.\n",
    "\n",
    "# 8. Is it logical to use two different dimensionality reduction algorithms in a chain?\n",
    "It can make sense to combine two DR methods.\n",
    "\n"
   ]
  },
  {
   "cell_type": "code",
   "execution_count": null,
   "metadata": {},
   "outputs": [],
   "source": []
  }
 ],
 "metadata": {
  "kernelspec": {
   "display_name": "Python 3",
   "language": "python",
   "name": "python3"
  },
  "language_info": {
   "codemirror_mode": {
    "name": "ipython",
    "version": 3
   },
   "file_extension": ".py",
   "mimetype": "text/x-python",
   "name": "python",
   "nbconvert_exporter": "python",
   "pygments_lexer": "ipython3",
   "version": "3.8.3"
  }
 },
 "nbformat": 4,
 "nbformat_minor": 4
}
